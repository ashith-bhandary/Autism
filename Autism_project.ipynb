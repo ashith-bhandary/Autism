{
  "nbformat": 4,
  "nbformat_minor": 0,
  "metadata": {
    "colab": {
      "name": "Autism_project.ipynb",
      "provenance": [],
      "collapsed_sections": []
    },
    "kernelspec": {
      "name": "python3",
      "display_name": "Python 3"
    },
    "language_info": {
      "name": "python"
    }
  },
  "cells": [
    {
      "cell_type": "code",
      "metadata": {
        "id": "E-EcbSxQfsjV"
      },
      "source": [
        "import tensorflow as tf\n",
        "from tensorflow import keras\n",
        "from tensorflow.keras.layers import Input, InputLayer, Conv2D, Activation, LeakyReLU, Concatenate, Dense, Lambda , MaxPooling2D , UpSampling2D , Conv2DTranspose, Flatten\n",
        "from tensorflow.keras.models import Model, load_model\n",
        "from tensorflow.keras import backend as K\n",
        "from tensorflow.keras import optimizers\n",
        "import matplotlib.pyplot as plt\n",
        "from tensorflow.keras.losses import MSE\n",
        "from tensorflow.keras import models\n",
        "from tensorflow.keras import layers\n",
        "import tensorflow as tf\n",
        "import datetime\n",
        "import time\n",
        "from tensorflow.keras.callbacks import TensorBoard"
      ],
      "execution_count": null,
      "outputs": []
    },
    {
      "cell_type": "code",
      "metadata": {
        "id": "tAL787mYfxep"
      },
      "source": [
        "import tensorflow as tf\n",
        "from tensorflow import keras\n",
        "import numpy as np\n",
        "import pandas as pd\n",
        "import matplotlib.pyplot as plt\n",
        "#from sklearn.metrics import confusion_matrix, balanced_accuracy_score, accuracy_score, classification_report\n",
        "from tensorflow.keras import models, layers, optimizers, losses\n",
        "from tensorflow.python.keras.saving import hdf5_format\n",
        "from tensorflow.keras.preprocessing.image import ImageDataGenerator, DirectoryIterator\n",
        "import h5py, itertools, collections\n",
        "import itertools\n",
        "from tensorflow.keras.preprocessing.image import ImageDataGenerator, DirectoryIterator\n",
        "physical_devices = tf.config.list_physical_devices('GPU')\n",
        "import tensorflow as tf"
      ],
      "execution_count": null,
      "outputs": []
    },
    {
      "cell_type": "code",
      "metadata": {
        "id": "z5iynCXKf0V_"
      },
      "source": [
        "def datagenerator(images, labels, batchsize, mode=\"train\"):\n",
        "    while True:\n",
        "        start = 0\n",
        "        end = batchsize\n",
        "\n",
        "        while start  < len(images): \n",
        "            # load your images from numpy arrays or read from directory\n",
        "            x = images[start:end] \n",
        "            y = labels[start:end]\n",
        "            yield x, y\n",
        "\n",
        "            start += batchsize\n",
        "            end += batchsize"
      ],
      "execution_count": null,
      "outputs": []
    },
    {
      "cell_type": "code",
      "metadata": {
        "colab": {
          "base_uri": "https://localhost:8080/"
        },
        "id": "NsxB95NTf36S",
        "outputId": "ce28d221-98e6-41e1-96a4-4ff10f613c3c"
      },
      "source": [
        "from google.colab import drive\n",
        "drive.mount('/content/drive')"
      ],
      "execution_count": null,
      "outputs": [
        {
          "output_type": "stream",
          "name": "stdout",
          "text": [
            "Mounted at /content/drive\n"
          ]
        }
      ]
    },
    {
      "cell_type": "code",
      "metadata": {
        "id": "HAVAPYGWf68W"
      },
      "source": [
        "import zipfile\n",
        "with zipfile.ZipFile('/content/drive/MyDrive/Documents/archive.zip', 'r') as zip_ref:\n",
        "    zip_ref.extractall('/content')"
      ],
      "execution_count": null,
      "outputs": []
    },
    {
      "cell_type": "code",
      "metadata": {
        "colab": {
          "base_uri": "https://localhost:8080/"
        },
        "id": "YKkLuoX8f-26",
        "outputId": "f8961bb7-d93a-46b7-b3d2-e69c6ea5fc14"
      },
      "source": [
        "#################\n",
        "# Verifications:\n",
        "#################\n",
        "print('GPU is used.' if len(tf.test.gpu_device_name()) > 0 else 'GPU is NOT used.')\n",
        "print(\"Tensorflow version: \" + tf.__version__)\n",
        "'''\n",
        "    Split train and validation.\n",
        "'''\n",
        "\n",
        "# We define the size of input images to 128x128 pixels.\n",
        "image_size = (160, 160)\n",
        "# We define the batch size\n",
        "batch_size = 16\n",
        "# Create an image generator with a fraction of images reserved for validation:\n",
        "image_generator = ImageDataGenerator(validation_split=0.1,\n",
        "                                     horizontal_flip = True,\n",
        "                                     vertical_flip = False,\n",
        "                                     )\n",
        "# Now, we create a training data iterator by creating batchs of images of the same size as\n",
        "# defined previously, i.e., each image is resized in a 64x64 pixels format.\n",
        "train_ds =  DirectoryIterator(\n",
        "    \"/content/autism/train\",\n",
        "    image_generator,\n",
        "    class_mode='categorical',\n",
        "    seed=1337,\n",
        "    target_size=image_size,\n",
        "    batch_size=batch_size,\n",
        "    subset = 'training',\n",
        ")\n",
        "# Similarly, we create a validation data iterator by creating batchs of images of the same size as\n",
        "# defined previously, i.e., each image is resized in a 64x64 pixels format.\n",
        "val_ds = DirectoryIterator(\n",
        "    \"/content/autism/valid\",\n",
        "    image_generator,\n",
        "    class_mode='categorical',\n",
        "    seed=1337,\n",
        "    target_size=image_size,\n",
        "    batch_size=batch_size,\n",
        "    subset = 'validation',\n",
        "    shuffle=False\n",
        ")\n",
        "\n",
        "test_ds = DirectoryIterator(\n",
        "    \"/content/autism/test\",\n",
        "    image_generator,\n",
        "    class_mode='categorical',\n",
        "    seed=1337,\n",
        "    target_size=image_size,\n",
        "    subset = 'validation',\n",
        "    shuffle=False\n",
        ")\n",
        "\n",
        "# We save the list of classes (labels).\n",
        "class_names = list(train_ds.class_indices.keys())\n",
        "print (class_names)\n",
        "# We also save the number of labels.\n",
        "num_classes = train_ds.num_classes\n",
        "x,y =next(test_ds)\n",
        "print(y.shape)"
      ],
      "execution_count": null,
      "outputs": [
        {
          "output_type": "stream",
          "name": "stdout",
          "text": [
            "GPU is NOT used.\n",
            "Tensorflow version: 2.6.0\n",
            "Found 2286 images belonging to 2 classes.\n",
            "Found 20 images belonging to 2 classes.\n",
            "Found 20 images belonging to 2 classes.\n",
            "['autistic', 'non_autistic']\n",
            "(20, 2)\n"
          ]
        }
      ]
    },
    {
      "cell_type": "code",
      "metadata": {
        "colab": {
          "base_uri": "https://localhost:8080/"
        },
        "id": "fDmauKWMlRaF",
        "outputId": "8fb8c6c9-851b-44ba-87b7-7a4cda381590"
      },
      "source": [
        "tf.keras.applications.mobilenet.preprocess_input "
      ],
      "execution_count": null,
      "outputs": [
        {
          "output_type": "execute_result",
          "data": {
            "text/plain": [
              "<function keras.applications.mobilenet.preprocess_input>"
            ]
          },
          "metadata": {},
          "execution_count": 8
        }
      ]
    },
    {
      "cell_type": "code",
      "metadata": {
        "colab": {
          "base_uri": "https://localhost:8080/"
        },
        "id": "atW-RhJClcSp",
        "outputId": "ebf07ca4-20e0-4533-8e1e-634e247350d5"
      },
      "source": [
        "len(test_ds)"
      ],
      "execution_count": null,
      "outputs": [
        {
          "output_type": "execute_result",
          "data": {
            "text/plain": [
              "1"
            ]
          },
          "metadata": {
            "tags": []
          },
          "execution_count": 34
        }
      ]
    },
    {
      "cell_type": "code",
      "metadata": {
        "colab": {
          "base_uri": "https://localhost:8080/"
        },
        "id": "SLN4POstl4DG",
        "outputId": "93230d3d-bbcd-453e-e6f2-fadf7bd1b894"
      },
      "source": [
        "batch_size = 64\n",
        "# train_gen2 = ImageDataGenerator(rescale=1./255).flow_from_directory(\"/content/autism/train\", target_size=(224,224), batch_size=batch_size)# Import the Original Validation Dataset\n",
        "# val_gen2 = ImageDataGenerator(rescale=1./255).flow_from_directory(\"/content/autism/valid\", target_size=(224,224), batch_size=batch_size)\n",
        "test_gen2 = ImageDataGenerator().flow_from_directory(\"/content/autism/test\", target_size=(224,224), batch_size=200)\n"
      ],
      "execution_count": null,
      "outputs": [
        {
          "output_type": "stream",
          "text": [
            "Found 200 images belonging to 2 classes.\n"
          ],
          "name": "stdout"
        }
      ]
    },
    {
      "cell_type": "code",
      "metadata": {
        "colab": {
          "base_uri": "https://localhost:8080/"
        },
        "id": "OJ4KLVoCwjcB",
        "outputId": "adf80828-1cd9-4fde-92b9-664101a8696b"
      },
      "source": [
        "mobile = tf.keras.applications.mobilenet.MobileNet()"
      ],
      "execution_count": null,
      "outputs": [
        {
          "output_type": "stream",
          "text": [
            "Downloading data from https://storage.googleapis.com/tensorflow/keras-applications/mobilenet/mobilenet_1_0_224_tf.h5\n",
            "17227776/17225924 [==============================] - 0s 0us/step\n"
          ],
          "name": "stdout"
        }
      ]
    },
    {
      "cell_type": "code",
      "metadata": {
        "colab": {
          "base_uri": "https://localhost:8080/",
          "height": 303
        },
        "id": "C4mJqg8_gWWM",
        "outputId": "c3a89f43-ff53-4408-c85e-807dfaa6a3a6"
      },
      "source": [
        "x,y =next(train_ds)\n",
        "print (x.shape)\n",
        "plt.imshow(x[2]/255)"
      ],
      "execution_count": null,
      "outputs": [
        {
          "output_type": "stream",
          "text": [
            "(16, 160, 160, 3)\n"
          ],
          "name": "stdout"
        },
        {
          "output_type": "execute_result",
          "data": {
            "text/plain": [
              "<matplotlib.image.AxesImage at 0x7fb19f30c2d0>"
            ]
          },
          "metadata": {
            "tags": []
          },
          "execution_count": 29
        },
        {
          "output_type": "display_data",
          "data": {
            "image/png": "[encoded data removed]",
            "text/plain": [
              "<Figure size 432x288 with 1 Axes>"
            ]
          },
          "metadata": {
            "tags": [],
            "needs_background": "light"
          }
        }
      ]
    },
    {
      "cell_type": "code",
      "metadata": {
        "id": "sLEWTUc7g-yo"
      },
      "source": [
        "## new dataget\n",
        "def datagen(train_ds):\n",
        "  while True:\n",
        "    x,y =next(train_ds)\n",
        "    yield ([x,y],y)\n",
        "\n",
        "\n",
        "def val_datagen(val_ds):\n",
        "  while True:\n",
        "    x,y =next(val_ds)\n",
        "    yield ([x,y],y)"
      ],
      "execution_count": null,
      "outputs": []
    },
    {
      "cell_type": "code",
      "metadata": {
        "id": "vmPNxSRRUZtD",
        "colab": {
          "base_uri": "https://localhost:8080/"
        },
        "outputId": "27751b89-41d4-422d-9695-6a09c5fdd5e0"
      },
      "source": [
        "from tensorflow.keras.layers import Dense, Activation,Dropout,Conv2D, MaxPooling2D,BatchNormalization, Flatten\n",
        "total_train = train_ds.n\n",
        "total_val = val_ds.n\n",
        "img_shape=(224,224,3)\n",
        "covn_base = tf.keras.applications.MobileNet(weights='imagenet',input_shape=img_shape,include_top=False)\n",
        "covn_base.trainable = True\n",
        "# for layers in covn_base.layers[:-5]:\n",
        "#     layers.trainable = False\n",
        "    \n",
        "#Build model    \n",
        "# model = tf.keras.Sequential()\n",
        "x = covn_base.output\n",
        "# x = Dense(32,activation='leakyrelu')(x)\n",
        "x = tf.keras.layers.GlobalAveragePooling2D()(x)\n",
        "x=keras.layers.BatchNormalization(momentum=0.99, epsilon=0.001 )(x)\n",
        "x = Dense(128,activation='relu')(x)\n",
        "x=keras.layers.BatchNormalization(momentum=0.99, epsilon=0.001 )(x)\n",
        "x = Dense(16,activation='relu')(x)\n",
        "x=keras.layers.BatchNormalization(momentum=0.99, epsilon=0.001 )(x)\n",
        "# x = Dropout(rate=0.4,seed = 123)(x) \n",
        "output = tf.keras.layers.Dense(2,activation='softmax')(x) #Join the output layer (2 categories)\n",
        "model=Model(inputs = covn_base.input, outputs = output)\n",
        "#Compile model\n",
        "model.compile(optimizer=tf.keras.optimizers.Adam(learning_rate=0.0001),  #Use adam optimizer, the learning rate is 0.0001\n",
        "              loss='binary_crossentropy', #Cross entropy loss function\n",
        "              metrics=[\"accuracy\"]) "
      ],
      "execution_count": null,
      "outputs": [
        {
          "output_type": "stream",
          "name": "stdout",
          "text": [
            "Downloading data from https://storage.googleapis.com/tensorflow/keras-applications/mobilenet/mobilenet_1_0_224_tf_no_top.h5\n",
            "17227776/17225924 [==============================] - 0s 0us/step\n",
            "17235968/17225924 [==============================] - 0s 0us/step\n"
          ]
        }
      ]
    },
    {
      "cell_type": "code",
      "metadata": {
        "colab": {
          "base_uri": "https://localhost:8080/"
        },
        "id": "_1NBKHjH_hxM",
        "outputId": "7c4d9c0f-120b-4dfd-8a6e-351f1a51518b"
      },
      "source": [
        "covn_base.summary"
      ],
      "execution_count": null,
      "outputs": [
        {
          "output_type": "execute_result",
          "data": {
            "text/plain": [
              "<bound method Model.summary of <keras.engine.functional.Functional object at 0x7fe0f3a77510>>"
            ]
          },
          "metadata": {},
          "execution_count": 9
        }
      ]
    },
    {
      "cell_type": "code",
      "metadata": {
        "colab": {
          "base_uri": "https://localhost:8080/"
        },
        "id": "bVuurOsU_vAK",
        "outputId": "dba3ca20-324f-48d0-ebe3-e18432307969"
      },
      "source": [
        "model.summary()"
      ],
      "execution_count": null,
      "outputs": [
        {
          "output_type": "stream",
          "name": "stdout",
          "text": [
            "Model: \"model\"\n",
            "_________________________________________________________________\n",
            "Layer (type)                 Output Shape              Param #   \n",
            "=================================================================\n",
            "input_1 (InputLayer)         [(None, 224, 224, 3)]     0         \n",
            "_________________________________________________________________\n",
            "conv1 (Conv2D)               (None, 112, 112, 32)      864       \n",
            "_________________________________________________________________\n",
            "conv1_bn (BatchNormalization (None, 112, 112, 32)      128       \n",
            "_________________________________________________________________\n",
            "conv1_relu (ReLU)            (None, 112, 112, 32)      0         \n",
            "_________________________________________________________________\n",
            "conv_dw_1 (DepthwiseConv2D)  (None, 112, 112, 32)      288       \n",
            "_________________________________________________________________\n",
            "conv_dw_1_bn (BatchNormaliza (None, 112, 112, 32)      128       \n",
            "_________________________________________________________________\n",
            "conv_dw_1_relu (ReLU)        (None, 112, 112, 32)      0         \n",
            "_________________________________________________________________\n",
            "conv_pw_1 (Conv2D)           (None, 112, 112, 64)      2048      \n",
            "_________________________________________________________________\n",
            "conv_pw_1_bn (BatchNormaliza (None, 112, 112, 64)      256       \n",
            "_________________________________________________________________\n",
            "conv_pw_1_relu (ReLU)        (None, 112, 112, 64)      0         \n",
            "_________________________________________________________________\n",
            "conv_pad_2 (ZeroPadding2D)   (None, 113, 113, 64)      0         \n",
            "_________________________________________________________________\n",
            "conv_dw_2 (DepthwiseConv2D)  (None, 56, 56, 64)        576       \n",
            "_________________________________________________________________\n",
            "conv_dw_2_bn (BatchNormaliza (None, 56, 56, 64)        256       \n",
            "_________________________________________________________________\n",
            "conv_dw_2_relu (ReLU)        (None, 56, 56, 64)        0         \n",
            "_________________________________________________________________\n",
            "conv_pw_2 (Conv2D)           (None, 56, 56, 128)       8192      \n",
            "_________________________________________________________________\n",
            "conv_pw_2_bn (BatchNormaliza (None, 56, 56, 128)       512       \n",
            "_________________________________________________________________\n",
            "conv_pw_2_relu (ReLU)        (None, 56, 56, 128)       0         \n",
            "_________________________________________________________________\n",
            "conv_dw_3 (DepthwiseConv2D)  (None, 56, 56, 128)       1152      \n",
            "_________________________________________________________________\n",
            "conv_dw_3_bn (BatchNormaliza (None, 56, 56, 128)       512       \n",
            "_________________________________________________________________\n",
            "conv_dw_3_relu (ReLU)        (None, 56, 56, 128)       0         \n",
            "_________________________________________________________________\n",
            "conv_pw_3 (Conv2D)           (None, 56, 56, 128)       16384     \n",
            "_________________________________________________________________\n",
            "conv_pw_3_bn (BatchNormaliza (None, 56, 56, 128)       512       \n",
            "_________________________________________________________________\n",
            "conv_pw_3_relu (ReLU)        (None, 56, 56, 128)       0         \n",
            "_________________________________________________________________\n",
            "conv_pad_4 (ZeroPadding2D)   (None, 57, 57, 128)       0         \n",
            "_________________________________________________________________\n",
            "conv_dw_4 (DepthwiseConv2D)  (None, 28, 28, 128)       1152      \n",
            "_________________________________________________________________\n",
            "conv_dw_4_bn (BatchNormaliza (None, 28, 28, 128)       512       \n",
            "_________________________________________________________________\n",
            "conv_dw_4_relu (ReLU)        (None, 28, 28, 128)       0         \n",
            "_________________________________________________________________\n",
            "conv_pw_4 (Conv2D)           (None, 28, 28, 256)       32768     \n",
            "_________________________________________________________________\n",
            "conv_pw_4_bn (BatchNormaliza (None, 28, 28, 256)       1024      \n",
            "_________________________________________________________________\n",
            "conv_pw_4_relu (ReLU)        (None, 28, 28, 256)       0         \n",
            "_________________________________________________________________\n",
            "conv_dw_5 (DepthwiseConv2D)  (None, 28, 28, 256)       2304      \n",
            "_________________________________________________________________\n",
            "conv_dw_5_bn (BatchNormaliza (None, 28, 28, 256)       1024      \n",
            "_________________________________________________________________\n",
            "conv_dw_5_relu (ReLU)        (None, 28, 28, 256)       0         \n",
            "_________________________________________________________________\n",
            "conv_pw_5 (Conv2D)           (None, 28, 28, 256)       65536     \n",
            "_________________________________________________________________\n",
            "conv_pw_5_bn (BatchNormaliza (None, 28, 28, 256)       1024      \n",
            "_________________________________________________________________\n",
            "conv_pw_5_relu (ReLU)        (None, 28, 28, 256)       0         \n",
            "_________________________________________________________________\n",
            "conv_pad_6 (ZeroPadding2D)   (None, 29, 29, 256)       0         \n",
            "_________________________________________________________________\n",
            "conv_dw_6 (DepthwiseConv2D)  (None, 14, 14, 256)       2304      \n",
            "_________________________________________________________________\n",
            "conv_dw_6_bn (BatchNormaliza (None, 14, 14, 256)       1024      \n",
            "_________________________________________________________________\n",
            "conv_dw_6_relu (ReLU)        (None, 14, 14, 256)       0         \n",
            "_________________________________________________________________\n",
            "conv_pw_6 (Conv2D)           (None, 14, 14, 512)       131072    \n",
            "_________________________________________________________________\n",
            "conv_pw_6_bn (BatchNormaliza (None, 14, 14, 512)       2048      \n",
            "_________________________________________________________________\n",
            "conv_pw_6_relu (ReLU)        (None, 14, 14, 512)       0         \n",
            "_________________________________________________________________\n",
            "conv_dw_7 (DepthwiseConv2D)  (None, 14, 14, 512)       4608      \n",
            "_________________________________________________________________\n",
            "conv_dw_7_bn (BatchNormaliza (None, 14, 14, 512)       2048      \n",
            "_________________________________________________________________\n",
            "conv_dw_7_relu (ReLU)        (None, 14, 14, 512)       0         \n",
            "_________________________________________________________________\n",
            "conv_pw_7 (Conv2D)           (None, 14, 14, 512)       262144    \n",
            "_________________________________________________________________\n",
            "conv_pw_7_bn (BatchNormaliza (None, 14, 14, 512)       2048      \n",
            "_________________________________________________________________\n",
            "conv_pw_7_relu (ReLU)        (None, 14, 14, 512)       0         \n",
            "_________________________________________________________________\n",
            "conv_dw_8 (DepthwiseConv2D)  (None, 14, 14, 512)       4608      \n",
            "_________________________________________________________________\n",
            "conv_dw_8_bn (BatchNormaliza (None, 14, 14, 512)       2048      \n",
            "_________________________________________________________________\n",
            "conv_dw_8_relu (ReLU)        (None, 14, 14, 512)       0         \n",
            "_________________________________________________________________\n",
            "conv_pw_8 (Conv2D)           (None, 14, 14, 512)       262144    \n",
            "_________________________________________________________________\n",
            "conv_pw_8_bn (BatchNormaliza (None, 14, 14, 512)       2048      \n",
            "_________________________________________________________________\n",
            "conv_pw_8_relu (ReLU)        (None, 14, 14, 512)       0         \n",
            "_________________________________________________________________\n",
            "conv_dw_9 (DepthwiseConv2D)  (None, 14, 14, 512)       4608      \n",
            "_________________________________________________________________\n",
            "conv_dw_9_bn (BatchNormaliza (None, 14, 14, 512)       2048      \n",
            "_________________________________________________________________\n",
            "conv_dw_9_relu (ReLU)        (None, 14, 14, 512)       0         \n",
            "_________________________________________________________________\n",
            "conv_pw_9 (Conv2D)           (None, 14, 14, 512)       262144    \n",
            "_________________________________________________________________\n",
            "conv_pw_9_bn (BatchNormaliza (None, 14, 14, 512)       2048      \n",
            "_________________________________________________________________\n",
            "conv_pw_9_relu (ReLU)        (None, 14, 14, 512)       0         \n",
            "_________________________________________________________________\n",
            "conv_dw_10 (DepthwiseConv2D) (None, 14, 14, 512)       4608      \n",
            "_________________________________________________________________\n",
            "conv_dw_10_bn (BatchNormaliz (None, 14, 14, 512)       2048      \n",
            "_________________________________________________________________\n",
            "conv_dw_10_relu (ReLU)       (None, 14, 14, 512)       0         \n",
            "_________________________________________________________________\n",
            "conv_pw_10 (Conv2D)          (None, 14, 14, 512)       262144    \n",
            "_________________________________________________________________\n",
            "conv_pw_10_bn (BatchNormaliz (None, 14, 14, 512)       2048      \n",
            "_________________________________________________________________\n",
            "conv_pw_10_relu (ReLU)       (None, 14, 14, 512)       0         \n",
            "_________________________________________________________________\n",
            "conv_dw_11 (DepthwiseConv2D) (None, 14, 14, 512)       4608      \n",
            "_________________________________________________________________\n",
            "conv_dw_11_bn (BatchNormaliz (None, 14, 14, 512)       2048      \n",
            "_________________________________________________________________\n",
            "conv_dw_11_relu (ReLU)       (None, 14, 14, 512)       0         \n",
            "_________________________________________________________________\n",
            "conv_pw_11 (Conv2D)          (None, 14, 14, 512)       262144    \n",
            "_________________________________________________________________\n",
            "conv_pw_11_bn (BatchNormaliz (None, 14, 14, 512)       2048      \n",
            "_________________________________________________________________\n",
            "conv_pw_11_relu (ReLU)       (None, 14, 14, 512)       0         \n",
            "_________________________________________________________________\n",
            "conv_pad_12 (ZeroPadding2D)  (None, 15, 15, 512)       0         \n",
            "_________________________________________________________________\n",
            "conv_dw_12 (DepthwiseConv2D) (None, 7, 7, 512)         4608      \n",
            "_________________________________________________________________\n",
            "conv_dw_12_bn (BatchNormaliz (None, 7, 7, 512)         2048      \n",
            "_________________________________________________________________\n",
            "conv_dw_12_relu (ReLU)       (None, 7, 7, 512)         0         \n",
            "_________________________________________________________________\n",
            "conv_pw_12 (Conv2D)          (None, 7, 7, 1024)        524288    \n",
            "_________________________________________________________________\n",
            "conv_pw_12_bn (BatchNormaliz (None, 7, 7, 1024)        4096      \n",
            "_________________________________________________________________\n",
            "conv_pw_12_relu (ReLU)       (None, 7, 7, 1024)        0         \n",
            "_________________________________________________________________\n",
            "conv_dw_13 (DepthwiseConv2D) (None, 7, 7, 1024)        9216      \n",
            "_________________________________________________________________\n",
            "conv_dw_13_bn (BatchNormaliz (None, 7, 7, 1024)        4096      \n",
            "_________________________________________________________________\n",
            "conv_dw_13_relu (ReLU)       (None, 7, 7, 1024)        0         \n",
            "_________________________________________________________________\n",
            "conv_pw_13 (Conv2D)          (None, 7, 7, 1024)        1048576   \n",
            "_________________________________________________________________\n",
            "conv_pw_13_bn (BatchNormaliz (None, 7, 7, 1024)        4096      \n",
            "_________________________________________________________________\n",
            "conv_pw_13_relu (ReLU)       (None, 7, 7, 1024)        0         \n",
            "_________________________________________________________________\n",
            "global_average_pooling2d (Gl (None, 1024)              0         \n",
            "_________________________________________________________________\n",
            "batch_normalization (BatchNo (None, 1024)              4096      \n",
            "_________________________________________________________________\n",
            "dense (Dense)                (None, 128)               131200    \n",
            "_________________________________________________________________\n",
            "batch_normalization_1 (Batch (None, 128)               512       \n",
            "_________________________________________________________________\n",
            "dense_1 (Dense)              (None, 16)                2064      \n",
            "_________________________________________________________________\n",
            "batch_normalization_2 (Batch (None, 16)                64        \n",
            "_________________________________________________________________\n",
            "dense_2 (Dense)              (None, 2)                 34        \n",
            "=================================================================\n",
            "Total params: 3,366,834\n",
            "Trainable params: 3,342,610\n",
            "Non-trainable params: 24,224\n",
            "_________________________________________________________________\n"
          ]
        }
      ]
    },
    {
      "cell_type": "code",
      "metadata": {
        "id": "Cs35loao_MCK"
      },
      "source": [
        "log_dir = \"logs/fit/\" + datetime.datetime.now().strftime(\"%Y%m%d-%H%M%S\")\n",
        "tensorboard_callback = tf.keras.callbacks.TensorBoard(log_dir=log_dir, histogram_freq=1,write_steps_per_second = )"
      ],
      "execution_count": null,
      "outputs": []
    },
    {
      "cell_type": "code",
      "metadata": {
        "colab": {
          "base_uri": "https://localhost:8080/"
        },
        "id": "VyQx5CliuCL_",
        "outputId": "376fe685-49e9-4fd8-c83f-2ed61d16dedc"
      },
      "source": [
        "epochs = 15\n",
        "history = model.fit(x=train_ds,\n",
        "                    steps_per_epoch=total_train // batch_size,\n",
        "                    epochs=epochs,\n",
        "                    validation_data=val_ds,\n",
        "                    validation_steps=total_val // batch_size,callbacks=[tensorboard_callback])"
      ],
      "execution_count": null,
      "outputs": [
        {
          "output_type": "stream",
          "name": "stdout",
          "text": [
            "Epoch 1/15\n",
            "142/142 [==============================] - 209s 1s/step - loss: 0.5262 - accuracy: 0.7617 - val_loss: 0.5469 - val_accuracy: 0.7500\n",
            "Epoch 2/15\n",
            "142/142 [==============================] - 209s 1s/step - loss: 0.3550 - accuracy: 0.8605 - val_loss: 0.3752 - val_accuracy: 0.8750\n",
            "Epoch 3/15\n",
            "142/142 [==============================] - 209s 1s/step - loss: 0.2721 - accuracy: 0.9115 - val_loss: 0.3806 - val_accuracy: 0.8750\n",
            "Epoch 4/15\n",
            "142/142 [==============================] - 209s 1s/step - loss: 0.2139 - accuracy: 0.9344 - val_loss: 0.4149 - val_accuracy: 0.8750\n",
            "Epoch 5/15\n",
            "142/142 [==============================] - 208s 1s/step - loss: 0.1835 - accuracy: 0.9511 - val_loss: 0.5254 - val_accuracy: 0.7500\n",
            "Epoch 6/15\n",
            "142/142 [==============================] - 207s 1s/step - loss: 0.1537 - accuracy: 0.9652 - val_loss: 0.2390 - val_accuracy: 0.8750\n",
            "Epoch 7/15\n",
            "142/142 [==============================] - 209s 1s/step - loss: 0.1257 - accuracy: 0.9727 - val_loss: 0.4923 - val_accuracy: 0.8125\n",
            "Epoch 8/15\n",
            "142/142 [==============================] - 209s 1s/step - loss: 0.1118 - accuracy: 0.9784 - val_loss: 0.6194 - val_accuracy: 0.7500\n",
            "Epoch 9/15\n",
            "142/142 [==============================] - 211s 1s/step - loss: 0.0916 - accuracy: 0.9797 - val_loss: 0.5588 - val_accuracy: 0.7500\n",
            "Epoch 10/15\n",
            "142/142 [==============================] - 232s 2s/step - loss: 0.1002 - accuracy: 0.9705 - val_loss: 0.4143 - val_accuracy: 0.8125\n",
            "Epoch 11/15\n",
            "142/142 [==============================] - 208s 1s/step - loss: 0.0870 - accuracy: 0.9762 - val_loss: 0.5868 - val_accuracy: 0.8750\n",
            "Epoch 12/15\n",
            "142/142 [==============================] - 210s 1s/step - loss: 0.0785 - accuracy: 0.9833 - val_loss: 0.4644 - val_accuracy: 0.8125\n",
            "Epoch 13/15\n",
            "142/142 [==============================] - 209s 1s/step - loss: 0.1070 - accuracy: 0.9674 - val_loss: 0.4034 - val_accuracy: 0.8125\n",
            "Epoch 14/15\n",
            "142/142 [==============================] - 212s 1s/step - loss: 0.0912 - accuracy: 0.9731 - val_loss: 0.3370 - val_accuracy: 0.8750\n",
            "Epoch 15/15\n",
            "142/142 [==============================] - 233s 2s/step - loss: 0.0912 - accuracy: 0.9718 - val_loss: 0.3641 - val_accuracy: 0.8125\n"
          ]
        }
      ]
    },
    {
      "cell_type": "code",
      "metadata": {
        "colab": {
          "base_uri": "https://localhost:8080/",
          "height": 131
        },
        "id": "7oCo7xGZC8sh",
        "outputId": "9ea354fd-97ff-4cc8-f417-f2b3e87e7c6d"
      },
      "source": [
        "tensorboard --logdir="
      ],
      "execution_count": null,
      "outputs": [
        {
          "output_type": "error",
          "ename": "SyntaxError",
          "evalue": "ignored",
          "traceback": [
            "\u001b[0;36m  File \u001b[0;32m\"<ipython-input-17-4bcb684fdc2d>\"\u001b[0;36m, line \u001b[0;32m1\u001b[0m\n\u001b[0;31m    tensorboard --logdir=path_to_your_logs\u001b[0m\n\u001b[0m                                          ^\u001b[0m\n\u001b[0;31mSyntaxError\u001b[0m\u001b[0;31m:\u001b[0m can't assign to operator\n"
          ]
        }
      ]
    },
    {
      "cell_type": "code",
      "metadata": {
        "id": "94DQewIahHw5"
      },
      "source": [
        "from tensorflow.keras.layers import Dense, Activation,Dropout,Conv2D, MaxPooling2D,BatchNormalization, Flatten\n",
        "total_train = train_ds.n\n",
        "total_val = val_ds.n\n",
        "img_shape=(224,224,3)\n",
        "covn_base = tf.keras.applications.MobileNet(weights='imagenet',input_shape=img_shape,include_top=False)\n",
        "covn_base.trainable = True\n",
        "# for layers in covn_base.layers[:-5]:\n",
        "#     layers.trainable = False\n",
        "    \n",
        "#Build model    \n",
        "# model = tf.keras.Sequential()\n",
        "x = covn_base.output\n",
        "# x = Dense(32,activation='leakyrelu')(x)\n",
        "x = tf.keras.layers.GlobalAveragePooling2D()(x)\n",
        "x = Dropout(rate=0.4,seed = 123)(x) \n",
        "x=keras.layers.BatchNormalization(momentum=0.99, epsilon=0.001 )(x)\n",
        "x = Dense(128,activation='relu')(x)\n",
        "x=keras.layers.BatchNormalization(momentum=0.99, epsilon=0.001 )(x)\n",
        "x = Dense(16,activation='relu')(x)\n",
        "x=keras.layers.BatchNormalization(momentum=0.99, epsilon=0.001 )(x)\n",
        "# x = Dropout(rate=0.4,seed = 123)(x) \n",
        "output = tf.keras.layers.Dense(2,activation='softmax')(x) #Join the output layer (2 categories)\n",
        "model=Model(inputs = covn_base.input, outputs = output)\n",
        "#Compile model\n",
        "model.compile(optimizer=tf.keras.optimizers.Adam(learning_rate=0.0001),  #Use adam optimizer, the learning rate is 0.0001\n",
        "              loss='_crossentropy', #Cross entropy loss function\n",
        "              metrics=[\"accuracy\"]) "
      ],
      "execution_count": null,
      "outputs": []
    },
    {
      "cell_type": "code",
      "metadata": {
        "colab": {
          "base_uri": "https://localhost:8080/"
        },
        "id": "snkhKYEiQfYs",
        "outputId": "6fea234e-d24f-44bf-d474-705533ccaea8"
      },
      "source": [
        "model.summary()"
      ],
      "execution_count": null,
      "outputs": [
        {
          "output_type": "stream",
          "text": [
            "Model: \"model_1\"\n",
            "_________________________________________________________________\n",
            "Layer (type)                 Output Shape              Param #   \n",
            "=================================================================\n",
            "input_2 (InputLayer)         [(None, 224, 224, 3)]     0         \n",
            "_________________________________________________________________\n",
            "conv1 (Conv2D)               (None, 112, 112, 32)      864       \n",
            "_________________________________________________________________\n",
            "conv1_bn (BatchNormalization (None, 112, 112, 32)      128       \n",
            "_________________________________________________________________\n",
            "conv1_relu (ReLU)            (None, 112, 112, 32)      0         \n",
            "_________________________________________________________________\n",
            "conv_dw_1 (DepthwiseConv2D)  (None, 112, 112, 32)      288       \n",
            "_________________________________________________________________\n",
            "conv_dw_1_bn (BatchNormaliza (None, 112, 112, 32)      128       \n",
            "_________________________________________________________________\n",
            "conv_dw_1_relu (ReLU)        (None, 112, 112, 32)      0         \n",
            "_________________________________________________________________\n",
            "conv_pw_1 (Conv2D)           (None, 112, 112, 64)      2048      \n",
            "_________________________________________________________________\n",
            "conv_pw_1_bn (BatchNormaliza (None, 112, 112, 64)      256       \n",
            "_________________________________________________________________\n",
            "conv_pw_1_relu (ReLU)        (None, 112, 112, 64)      0         \n",
            "_________________________________________________________________\n",
            "conv_pad_2 (ZeroPadding2D)   (None, 113, 113, 64)      0         \n",
            "_________________________________________________________________\n",
            "conv_dw_2 (DepthwiseConv2D)  (None, 56, 56, 64)        576       \n",
            "_________________________________________________________________\n",
            "conv_dw_2_bn (BatchNormaliza (None, 56, 56, 64)        256       \n",
            "_________________________________________________________________\n",
            "conv_dw_2_relu (ReLU)        (None, 56, 56, 64)        0         \n",
            "_________________________________________________________________\n",
            "conv_pw_2 (Conv2D)           (None, 56, 56, 128)       8192      \n",
            "_________________________________________________________________\n",
            "conv_pw_2_bn (BatchNormaliza (None, 56, 56, 128)       512       \n",
            "_________________________________________________________________\n",
            "conv_pw_2_relu (ReLU)        (None, 56, 56, 128)       0         \n",
            "_________________________________________________________________\n",
            "conv_dw_3 (DepthwiseConv2D)  (None, 56, 56, 128)       1152      \n",
            "_________________________________________________________________\n",
            "conv_dw_3_bn (BatchNormaliza (None, 56, 56, 128)       512       \n",
            "_________________________________________________________________\n",
            "conv_dw_3_relu (ReLU)        (None, 56, 56, 128)       0         \n",
            "_________________________________________________________________\n",
            "conv_pw_3 (Conv2D)           (None, 56, 56, 128)       16384     \n",
            "_________________________________________________________________\n",
            "conv_pw_3_bn (BatchNormaliza (None, 56, 56, 128)       512       \n",
            "_________________________________________________________________\n",
            "conv_pw_3_relu (ReLU)        (None, 56, 56, 128)       0         \n",
            "_________________________________________________________________\n",
            "conv_pad_4 (ZeroPadding2D)   (None, 57, 57, 128)       0         \n",
            "_________________________________________________________________\n",
            "conv_dw_4 (DepthwiseConv2D)  (None, 28, 28, 128)       1152      \n",
            "_________________________________________________________________\n",
            "conv_dw_4_bn (BatchNormaliza (None, 28, 28, 128)       512       \n",
            "_________________________________________________________________\n",
            "conv_dw_4_relu (ReLU)        (None, 28, 28, 128)       0         \n",
            "_________________________________________________________________\n",
            "conv_pw_4 (Conv2D)           (None, 28, 28, 256)       32768     \n",
            "_________________________________________________________________\n",
            "conv_pw_4_bn (BatchNormaliza (None, 28, 28, 256)       1024      \n",
            "_________________________________________________________________\n",
            "conv_pw_4_relu (ReLU)        (None, 28, 28, 256)       0         \n",
            "_________________________________________________________________\n",
            "conv_dw_5 (DepthwiseConv2D)  (None, 28, 28, 256)       2304      \n",
            "_________________________________________________________________\n",
            "conv_dw_5_bn (BatchNormaliza (None, 28, 28, 256)       1024      \n",
            "_________________________________________________________________\n",
            "conv_dw_5_relu (ReLU)        (None, 28, 28, 256)       0         \n",
            "_________________________________________________________________\n",
            "conv_pw_5 (Conv2D)           (None, 28, 28, 256)       65536     \n",
            "_________________________________________________________________\n",
            "conv_pw_5_bn (BatchNormaliza (None, 28, 28, 256)       1024      \n",
            "_________________________________________________________________\n",
            "conv_pw_5_relu (ReLU)        (None, 28, 28, 256)       0         \n",
            "_________________________________________________________________\n",
            "conv_pad_6 (ZeroPadding2D)   (None, 29, 29, 256)       0         \n",
            "_________________________________________________________________\n",
            "conv_dw_6 (DepthwiseConv2D)  (None, 14, 14, 256)       2304      \n",
            "_________________________________________________________________\n",
            "conv_dw_6_bn (BatchNormaliza (None, 14, 14, 256)       1024      \n",
            "_________________________________________________________________\n",
            "conv_dw_6_relu (ReLU)        (None, 14, 14, 256)       0         \n",
            "_________________________________________________________________\n",
            "conv_pw_6 (Conv2D)           (None, 14, 14, 512)       131072    \n",
            "_________________________________________________________________\n",
            "conv_pw_6_bn (BatchNormaliza (None, 14, 14, 512)       2048      \n",
            "_________________________________________________________________\n",
            "conv_pw_6_relu (ReLU)        (None, 14, 14, 512)       0         \n",
            "_________________________________________________________________\n",
            "conv_dw_7 (DepthwiseConv2D)  (None, 14, 14, 512)       4608      \n",
            "_________________________________________________________________\n",
            "conv_dw_7_bn (BatchNormaliza (None, 14, 14, 512)       2048      \n",
            "_________________________________________________________________\n",
            "conv_dw_7_relu (ReLU)        (None, 14, 14, 512)       0         \n",
            "_________________________________________________________________\n",
            "conv_pw_7 (Conv2D)           (None, 14, 14, 512)       262144    \n",
            "_________________________________________________________________\n",
            "conv_pw_7_bn (BatchNormaliza (None, 14, 14, 512)       2048      \n",
            "_________________________________________________________________\n",
            "conv_pw_7_relu (ReLU)        (None, 14, 14, 512)       0         \n",
            "_________________________________________________________________\n",
            "conv_dw_8 (DepthwiseConv2D)  (None, 14, 14, 512)       4608      \n",
            "_________________________________________________________________\n",
            "conv_dw_8_bn (BatchNormaliza (None, 14, 14, 512)       2048      \n",
            "_________________________________________________________________\n",
            "conv_dw_8_relu (ReLU)        (None, 14, 14, 512)       0         \n",
            "_________________________________________________________________\n",
            "conv_pw_8 (Conv2D)           (None, 14, 14, 512)       262144    \n",
            "_________________________________________________________________\n",
            "conv_pw_8_bn (BatchNormaliza (None, 14, 14, 512)       2048      \n",
            "_________________________________________________________________\n",
            "conv_pw_8_relu (ReLU)        (None, 14, 14, 512)       0         \n",
            "_________________________________________________________________\n",
            "conv_dw_9 (DepthwiseConv2D)  (None, 14, 14, 512)       4608      \n",
            "_________________________________________________________________\n",
            "conv_dw_9_bn (BatchNormaliza (None, 14, 14, 512)       2048      \n",
            "_________________________________________________________________\n",
            "conv_dw_9_relu (ReLU)        (None, 14, 14, 512)       0         \n",
            "_________________________________________________________________\n",
            "conv_pw_9 (Conv2D)           (None, 14, 14, 512)       262144    \n",
            "_________________________________________________________________\n",
            "conv_pw_9_bn (BatchNormaliza (None, 14, 14, 512)       2048      \n",
            "_________________________________________________________________\n",
            "conv_pw_9_relu (ReLU)        (None, 14, 14, 512)       0         \n",
            "_________________________________________________________________\n",
            "conv_dw_10 (DepthwiseConv2D) (None, 14, 14, 512)       4608      \n",
            "_________________________________________________________________\n",
            "conv_dw_10_bn (BatchNormaliz (None, 14, 14, 512)       2048      \n",
            "_________________________________________________________________\n",
            "conv_dw_10_relu (ReLU)       (None, 14, 14, 512)       0         \n",
            "_________________________________________________________________\n",
            "conv_pw_10 (Conv2D)          (None, 14, 14, 512)       262144    \n",
            "_________________________________________________________________\n",
            "conv_pw_10_bn (BatchNormaliz (None, 14, 14, 512)       2048      \n",
            "_________________________________________________________________\n",
            "conv_pw_10_relu (ReLU)       (None, 14, 14, 512)       0         \n",
            "_________________________________________________________________\n",
            "conv_dw_11 (DepthwiseConv2D) (None, 14, 14, 512)       4608      \n",
            "_________________________________________________________________\n",
            "conv_dw_11_bn (BatchNormaliz (None, 14, 14, 512)       2048      \n",
            "_________________________________________________________________\n",
            "conv_dw_11_relu (ReLU)       (None, 14, 14, 512)       0         \n",
            "_________________________________________________________________\n",
            "conv_pw_11 (Conv2D)          (None, 14, 14, 512)       262144    \n",
            "_________________________________________________________________\n",
            "conv_pw_11_bn (BatchNormaliz (None, 14, 14, 512)       2048      \n",
            "_________________________________________________________________\n",
            "conv_pw_11_relu (ReLU)       (None, 14, 14, 512)       0         \n",
            "_________________________________________________________________\n",
            "conv_pad_12 (ZeroPadding2D)  (None, 15, 15, 512)       0         \n",
            "_________________________________________________________________\n",
            "conv_dw_12 (DepthwiseConv2D) (None, 7, 7, 512)         4608      \n",
            "_________________________________________________________________\n",
            "conv_dw_12_bn (BatchNormaliz (None, 7, 7, 512)         2048      \n",
            "_________________________________________________________________\n",
            "conv_dw_12_relu (ReLU)       (None, 7, 7, 512)         0         \n",
            "_________________________________________________________________\n",
            "conv_pw_12 (Conv2D)          (None, 7, 7, 1024)        524288    \n",
            "_________________________________________________________________\n",
            "conv_pw_12_bn (BatchNormaliz (None, 7, 7, 1024)        4096      \n",
            "_________________________________________________________________\n",
            "conv_pw_12_relu (ReLU)       (None, 7, 7, 1024)        0         \n",
            "_________________________________________________________________\n",
            "conv_dw_13 (DepthwiseConv2D) (None, 7, 7, 1024)        9216      \n",
            "_________________________________________________________________\n",
            "conv_dw_13_bn (BatchNormaliz (None, 7, 7, 1024)        4096      \n",
            "_________________________________________________________________\n",
            "conv_dw_13_relu (ReLU)       (None, 7, 7, 1024)        0         \n",
            "_________________________________________________________________\n",
            "conv_pw_13 (Conv2D)          (None, 7, 7, 1024)        1048576   \n",
            "_________________________________________________________________\n",
            "conv_pw_13_bn (BatchNormaliz (None, 7, 7, 1024)        4096      \n",
            "_________________________________________________________________\n",
            "conv_pw_13_relu (ReLU)       (None, 7, 7, 1024)        0         \n",
            "_________________________________________________________________\n",
            "global_average_pooling2d_1 ( (None, 1024)              0         \n",
            "_________________________________________________________________\n",
            "dropout (Dropout)            (None, 1024)              0         \n",
            "_________________________________________________________________\n",
            "batch_normalization_3 (Batch (None, 1024)              4096      \n",
            "_________________________________________________________________\n",
            "dense_3 (Dense)              (None, 128)               131200    \n",
            "_________________________________________________________________\n",
            "batch_normalization_4 (Batch (None, 128)               512       \n",
            "_________________________________________________________________\n",
            "dense_4 (Dense)              (None, 16)                2064      \n",
            "_________________________________________________________________\n",
            "batch_normalization_5 (Batch (None, 16)                64        \n",
            "_________________________________________________________________\n",
            "dense_5 (Dense)              (None, 2)                 34        \n",
            "=================================================================\n",
            "Total params: 3,366,834\n",
            "Trainable params: 3,342,610\n",
            "Non-trainable params: 24,224\n",
            "_________________________________________________________________\n"
          ],
          "name": "stdout"
        }
      ]
    },
    {
      "cell_type": "code",
      "metadata": {
        "colab": {
          "base_uri": "https://localhost:8080/"
        },
        "id": "LuLxbIxyhL6g",
        "outputId": "b69ad02b-5be8-488d-8594-66df464c25f7"
      },
      "source": [
        "epochs = 15\n",
        "history = model.fit(x=train_ds,\n",
        "                    steps_per_epoch=total_train // batch_size,\n",
        "                    epochs=epochs,\n",
        "                    validation_data=val_ds,\n",
        "                    validation_steps=total_val // batch_size)"
      ],
      "execution_count": null,
      "outputs": [
        {
          "output_type": "stream",
          "text": [
            "Epoch 1/15\n",
            "142/142 [==============================] - 259s 2s/step - loss: 0.5928 - accuracy: 0.7225 - val_loss: 1.0133 - val_accuracy: 0.5625\n",
            "Epoch 2/15\n",
            "142/142 [==============================] - 252s 2s/step - loss: 0.3456 - accuracy: 0.8392 - val_loss: 0.4462 - val_accuracy: 0.8125\n",
            "Epoch 3/15\n",
            "142/142 [==============================] - 251s 2s/step - loss: 0.2605 - accuracy: 0.8921 - val_loss: 0.4017 - val_accuracy: 0.8750\n",
            "Epoch 4/15\n",
            "142/142 [==============================] - 251s 2s/step - loss: 0.2011 - accuracy: 0.9242 - val_loss: 0.3475 - val_accuracy: 0.7500\n",
            "Epoch 5/15\n",
            "142/142 [==============================] - 252s 2s/step - loss: 0.1689 - accuracy: 0.9405 - val_loss: 0.3477 - val_accuracy: 0.8750\n",
            "Epoch 6/15\n",
            "142/142 [==============================] - 253s 2s/step - loss: 0.1507 - accuracy: 0.9502 - val_loss: 0.4927 - val_accuracy: 0.8125\n",
            "Epoch 7/15\n",
            "142/142 [==============================] - 253s 2s/step - loss: 0.1097 - accuracy: 0.9692 - val_loss: 0.2443 - val_accuracy: 0.8750\n",
            "Epoch 8/15\n",
            "142/142 [==============================] - 254s 2s/step - loss: 0.1016 - accuracy: 0.9696 - val_loss: 0.2536 - val_accuracy: 0.8750\n",
            "Epoch 9/15\n",
            "142/142 [==============================] - 252s 2s/step - loss: 0.0876 - accuracy: 0.9758 - val_loss: 0.2366 - val_accuracy: 0.8750\n",
            "Epoch 10/15\n",
            "142/142 [==============================] - 251s 2s/step - loss: 0.0821 - accuracy: 0.9806 - val_loss: 0.1524 - val_accuracy: 0.9375\n",
            "Epoch 11/15\n",
            "142/142 [==============================] - 253s 2s/step - loss: 0.0864 - accuracy: 0.9714 - val_loss: 0.1898 - val_accuracy: 0.8750\n",
            "Epoch 12/15\n",
            "142/142 [==============================] - 249s 2s/step - loss: 0.0788 - accuracy: 0.9771 - val_loss: 0.2253 - val_accuracy: 0.9375\n",
            "Epoch 13/15\n",
            "142/142 [==============================] - 253s 2s/step - loss: 0.0640 - accuracy: 0.9819 - val_loss: 0.4141 - val_accuracy: 0.8125\n",
            "Epoch 14/15\n",
            "142/142 [==============================] - 250s 2s/step - loss: 0.0662 - accuracy: 0.9789 - val_loss: 0.4358 - val_accuracy: 0.7500\n",
            "Epoch 15/15\n",
            "123/142 [========================>.....] - ETA: 28s - loss: 0.0784 - accuracy: 0.9761"
          ],
          "name": "stdout"
        }
      ]
    },
    {
      "cell_type": "code",
      "metadata": {
        "id": "AGgLOhBWFNWt"
      },
      "source": [
        "from tensorflow.keras.layers import Dense, Activation,Dropout,Conv2D, MaxPooling2D,BatchNormalization, Flatten\n",
        "from keras.layers import Layer\n",
        "from keras import regularizers\n",
        "total_train = train_ds.n\n",
        "total_val = val_ds.n\n",
        "img_shape=(224,224,3)\n",
        "covn_base = tf.keras.applications.MobileNet(weights='imagenet',input_shape=img_shape,include_top=False)\n",
        "covn_base.trainable = True\n",
        "# for layers in covn_base.layers[:-5]:\n",
        "#     layers.trainable = False\n",
        "    \n",
        "#Build model    \n",
        "# model = tf.keras.Sequential()\n",
        "x = covn_base.output\n",
        "# x = Dense(32,activation='leakyrelu')(x)\n",
        "x = tf.keras.layers.GlobalAveragePooling2D()(x)\n",
        "x = Dropout(rate=0.4,seed = 123)(x) \n",
        "x=keras.layers.BatchNormalization(momentum=0.99, epsilon=0.001 )(x)\n",
        "x = Dense(128,activation='relu')(x)\n",
        "x=keras.layers.BatchNormalization(momentum=0.99, epsilon=0.001 )(x)\n",
        "x = Dense(16,activation='relu')(x)\n",
        "x=keras.layers.BatchNormalization(momentum=0.99, epsilon=0.001 )(x)\n",
        "# x = Dropout(rate=0.4,seed = 123)(x) \n",
        "output = tf.keras.layers.Dense(2,activation='softmax')(x) #Join the output layer (2 categories)\n",
        "model=Model(inputs = covn_base.input, outputs = output)\n",
        "#Compile model\n",
        "model.compile(optimizer=tf.keras.optimizers.Adam(learning_rate=0.0001),  #Use adam optimizer, the learning rate is 0.0001\n",
        "              loss='categorical_crossentropy', #Cross entropy loss function\n",
        "              metrics=[\"accuracy\",tf.keras.metrics.AUC()]) "
      ],
      "execution_count": 18,
      "outputs": []
    },
    {
      "cell_type": "code",
      "metadata": {
        "colab": {
          "base_uri": "https://localhost:8080/"
        },
        "id": "QNfK9oWyR4fl",
        "outputId": "877ebce5-9938-4509-8c1b-ea9de185b396"
      },
      "source": [
        "epochs = 15\n",
        "history = model.fit(x=train_ds,\n",
        "                    steps_per_epoch=total_train // batch_size,\n",
        "                    epochs=epochs,\n",
        "                    validation_data=val_ds,\n",
        "                    validation_steps=total_val // batch_size)"
      ],
      "execution_count": null,
      "outputs": [
        {
          "output_type": "stream",
          "text": [
            "Epoch 1/15\n",
            "142/142 [==============================] - 230s 2s/step - loss: 0.6065 - accuracy: 0.6881 - auc: 0.7647 - val_loss: 0.7723 - val_accuracy: 0.5625 - val_auc: 0.6602\n",
            "Epoch 2/15\n",
            "142/142 [==============================] - 222s 2s/step - loss: 0.4486 - accuracy: 0.7855 - auc: 0.8747 - val_loss: 0.4369 - val_accuracy: 0.8125 - val_auc: 0.8438\n",
            "Epoch 3/15\n",
            "142/142 [==============================] - 223s 2s/step - loss: 0.3630 - accuracy: 0.8383 - auc: 0.9184 - val_loss: 0.3826 - val_accuracy: 0.8125 - val_auc: 0.8828\n",
            "Epoch 4/15\n",
            "142/142 [==============================] - 223s 2s/step - loss: 0.2891 - accuracy: 0.8828 - auc: 0.9508 - val_loss: 0.4778 - val_accuracy: 0.8125 - val_auc: 0.8516\n",
            "Epoch 5/15\n",
            "142/142 [==============================] - 220s 2s/step - loss: 0.2669 - accuracy: 0.8868 - auc: 0.9583 - val_loss: 0.4266 - val_accuracy: 0.8125 - val_auc: 0.8926\n",
            "Epoch 6/15\n",
            "142/142 [==============================] - 221s 2s/step - loss: 0.2247 - accuracy: 0.9110 - auc: 0.9720 - val_loss: 0.4175 - val_accuracy: 0.7500 - val_auc: 0.8906\n",
            "Epoch 7/15\n",
            "142/142 [==============================] - 225s 2s/step - loss: 0.1914 - accuracy: 0.9304 - auc: 0.9798 - val_loss: 0.3274 - val_accuracy: 0.8750 - val_auc: 0.9453\n",
            "Epoch 8/15\n",
            "142/142 [==============================] - 222s 2s/step - loss: 0.1724 - accuracy: 0.9414 - auc: 0.9847 - val_loss: 0.5100 - val_accuracy: 0.8125 - val_auc: 0.8633\n",
            "Epoch 9/15\n",
            "142/142 [==============================] - 225s 2s/step - loss: 0.1314 - accuracy: 0.9559 - auc: 0.9927 - val_loss: 0.4481 - val_accuracy: 0.8125 - val_auc: 0.9180\n",
            "Epoch 10/15\n",
            "142/142 [==============================] - 223s 2s/step - loss: 0.1310 - accuracy: 0.9546 - auc: 0.9918 - val_loss: 0.4748 - val_accuracy: 0.8125 - val_auc: 0.9180\n",
            "Epoch 11/15\n",
            "142/142 [==============================] - 221s 2s/step - loss: 0.1035 - accuracy: 0.9705 - auc: 0.9951 - val_loss: 0.3575 - val_accuracy: 0.8750 - val_auc: 0.9453\n",
            "Epoch 12/15\n",
            "142/142 [==============================] - 223s 2s/step - loss: 0.0939 - accuracy: 0.9718 - auc: 0.9954 - val_loss: 0.2645 - val_accuracy: 0.9375 - val_auc: 0.9531\n",
            "Epoch 13/15\n",
            "142/142 [==============================] - 220s 2s/step - loss: 0.1096 - accuracy: 0.9612 - auc: 0.9927 - val_loss: 0.2090 - val_accuracy: 0.8750 - val_auc: 0.9766\n",
            "Epoch 14/15\n",
            "142/142 [==============================] - 219s 2s/step - loss: 0.0955 - accuracy: 0.9656 - auc: 0.9949 - val_loss: 0.3998 - val_accuracy: 0.8750 - val_auc: 0.9336\n",
            "Epoch 15/15\n",
            "142/142 [==============================] - 218s 2s/step - loss: 0.0860 - accuracy: 0.9744 - auc: 0.9960 - val_loss: 0.3973 - val_accuracy: 0.9375 - val_auc: 0.9219\n"
          ],
          "name": "stdout"
        }
      ]
    },
    {
      "cell_type": "code",
      "metadata": {
        "id": "IHPoUcREf_Lp"
      },
      "source": [
        "from sklearn.metrics import roc_curve\n",
        "y_pred_keras = model.predict(test_ds)"
      ],
      "execution_count": null,
      "outputs": []
    },
    {
      "cell_type": "code",
      "metadata": {
        "colab": {
          "base_uri": "https://localhost:8080/"
        },
        "id": "y-hpn_cefyQU",
        "outputId": "9a77d677-8dfb-4643-95c0-6fa6eee24658"
      },
      "source": [
        "y_pred_keras"
      ],
      "execution_count": null,
      "outputs": [
        {
          "output_type": "execute_result",
          "data": {
            "text/plain": [
              "array([[1.34536764e-03, 9.98654604e-01],\n",
              "       [7.41556704e-01, 2.58443296e-01],\n",
              "       [1.80443027e-03, 9.98195589e-01],\n",
              "       [6.75234497e-02, 9.32476580e-01],\n",
              "       [6.50802627e-02, 9.34919655e-01],\n",
              "       [9.86849070e-01, 1.31509425e-02],\n",
              "       [9.97696817e-01, 2.30322452e-03],\n",
              "       [5.28014004e-01, 4.71985996e-01],\n",
              "       [3.77955996e-02, 9.62204456e-01],\n",
              "       [9.45803046e-01, 5.41969575e-02],\n",
              "       [3.36589515e-02, 9.66341078e-01],\n",
              "       [5.34130784e-04, 9.99465883e-01],\n",
              "       [3.61785013e-03, 9.96382117e-01],\n",
              "       [3.76426469e-04, 9.99623537e-01],\n",
              "       [8.30382865e-04, 9.99169588e-01],\n",
              "       [2.27775514e-01, 7.72224486e-01],\n",
              "       [5.33468928e-03, 9.94665265e-01],\n",
              "       [6.55813841e-04, 9.99344170e-01],\n",
              "       [9.38119233e-01, 6.18807189e-02],\n",
              "       [6.76780066e-04, 9.99323249e-01]], dtype=float32)"
            ]
          },
          "metadata": {
            "tags": []
          },
          "execution_count": 42
        }
      ]
    },
    {
      "cell_type": "code",
      "metadata": {
        "colab": {
          "base_uri": "https://localhost:8080/",
          "height": 303
        },
        "id": "VSrg7cMTpXHs",
        "outputId": "c82144af-9f51-4970-e267-80968291f184"
      },
      "source": [
        "x,y =next(test_ds)\n",
        "print (x.shape)\n",
        "plt.imshow(x[1]/255)\n",
        "print(y[3])"
      ],
      "execution_count": null,
      "outputs": [
        {
          "output_type": "stream",
          "text": [
            "(20, 160, 160, 3)\n",
            "[1. 0.]\n"
          ],
          "name": "stdout"
        },
        {
          "output_type": "display_data",
          "data": {
            "image/png": "[encoded data removed]",
            "text/plain": [
              "<Figure size 432x288 with 1 Axes>"
            ]
          },
          "metadata": {
            "tags": [],
            "needs_background": "light"
          }
        }
      ]
    },
    {
      "cell_type": "code",
      "metadata": {
        "colab": {
          "base_uri": "https://localhost:8080/"
        },
        "id": "lGA8HGuzayfA",
        "outputId": "d755c884-df7c-4295-dd67-46406f85c145"
      },
      "source": [
        "epochs = 15\n",
        "history = model.fit(x=train_ds,\n",
        "                    steps_per_epoch=total_train // batch_size,\n",
        "                    epochs=epochs,\n",
        "                    validation_data=val_ds,\n",
        "                    validation_steps=total_val // batch_size)"
      ],
      "execution_count": null,
      "outputs": [
        {
          "output_type": "stream",
          "text": [
            "Epoch 1/15\n",
            "142/142 [==============================] - 221s 2s/step - loss: 0.6364 - accuracy: 0.6938 - auc_2: 0.7680 - val_loss: 1.2496 - val_accuracy: 0.5000 - val_auc_2: 0.6094\n",
            "Epoch 2/15\n",
            "142/142 [==============================] - 216s 2s/step - loss: 0.4185 - accuracy: 0.8031 - auc_2: 0.8924 - val_loss: 0.4302 - val_accuracy: 0.8125 - val_auc_2: 0.8789\n",
            "Epoch 3/15\n",
            "142/142 [==============================] - 216s 2s/step - loss: 0.3453 - accuracy: 0.8537 - auc_2: 0.9264 - val_loss: 0.2798 - val_accuracy: 0.8750 - val_auc_2: 0.9531\n",
            "Epoch 4/15\n",
            "142/142 [==============================] - 215s 2s/step - loss: 0.2991 - accuracy: 0.8714 - auc_2: 0.9456 - val_loss: 0.3497 - val_accuracy: 0.8750 - val_auc_2: 0.9219\n",
            "Epoch 5/15\n",
            "142/142 [==============================] - 214s 2s/step - loss: 0.2739 - accuracy: 0.8881 - auc_2: 0.9546 - val_loss: 0.1682 - val_accuracy: 0.9375 - val_auc_2: 0.9883\n",
            "Epoch 6/15\n",
            "142/142 [==============================] - 215s 2s/step - loss: 0.2283 - accuracy: 0.9106 - auc_2: 0.9696 - val_loss: 0.1919 - val_accuracy: 0.9375 - val_auc_2: 0.9883\n",
            "Epoch 7/15\n",
            "142/142 [==============================] - 215s 2s/step - loss: 0.1953 - accuracy: 0.9247 - auc_2: 0.9786 - val_loss: 0.5009 - val_accuracy: 0.7500 - val_auc_2: 0.8906\n",
            "Epoch 8/15\n",
            "142/142 [==============================] - 214s 2s/step - loss: 0.1578 - accuracy: 0.9427 - auc_2: 0.9868 - val_loss: 0.5234 - val_accuracy: 0.8125 - val_auc_2: 0.8906\n",
            "Epoch 9/15\n",
            "142/142 [==============================] - 215s 2s/step - loss: 0.1305 - accuracy: 0.9586 - auc_2: 0.9919 - val_loss: 0.4785 - val_accuracy: 0.8125 - val_auc_2: 0.8867\n",
            "Epoch 10/15\n",
            "142/142 [==============================] - 215s 2s/step - loss: 0.1219 - accuracy: 0.9577 - auc_2: 0.9921 - val_loss: 0.5786 - val_accuracy: 0.7500 - val_auc_2: 0.8203\n",
            "Epoch 11/15\n",
            "142/142 [==============================] - 214s 2s/step - loss: 0.0968 - accuracy: 0.9678 - auc_2: 0.9960 - val_loss: 0.5248 - val_accuracy: 0.7500 - val_auc_2: 0.8828\n",
            "Epoch 12/15\n",
            "142/142 [==============================] - 215s 2s/step - loss: 0.0957 - accuracy: 0.9674 - auc_2: 0.9958 - val_loss: 0.4506 - val_accuracy: 0.7500 - val_auc_2: 0.8750\n",
            "Epoch 13/15\n",
            "142/142 [==============================] - 214s 2s/step - loss: 0.1186 - accuracy: 0.9604 - auc_2: 0.9910 - val_loss: 0.3624 - val_accuracy: 0.8125 - val_auc_2: 0.9180\n",
            "Epoch 14/15\n",
            "142/142 [==============================] - 215s 2s/step - loss: 0.0887 - accuracy: 0.9700 - auc_2: 0.9963 - val_loss: 0.5662 - val_accuracy: 0.8125 - val_auc_2: 0.8711\n",
            "Epoch 15/15\n",
            "142/142 [==============================] - 215s 2s/step - loss: 0.0904 - accuracy: 0.9692 - auc_2: 0.9961 - val_loss: 0.6602 - val_accuracy: 0.7500 - val_auc_2: 0.8555\n"
          ],
          "name": "stdout"
        }
      ]
    },
    {
      "cell_type": "code",
      "metadata": {
        "id": "lIZW69-7owTb"
      },
      "source": [
        "\n",
        "# model.save('autism')\n",
        "model.save('autism_1.h5')"
      ],
      "execution_count": null,
      "outputs": []
    },
    {
      "cell_type": "code",
      "metadata": {
        "id": "j7IDhv1lBrA5",
        "colab": {
          "base_uri": "https://localhost:8080/"
        },
        "outputId": "9eac0aeb-8ec1-4301-c4cc-28a13799b009"
      },
      "source": [
        "model.save('a_11')"
      ],
      "execution_count": null,
      "outputs": [
        {
          "output_type": "stream",
          "text": [
            "INFO:tensorflow:Assets written to: a_11/assets\n"
          ],
          "name": "stdout"
        }
      ]
    },
    {
      "cell_type": "code",
      "metadata": {
        "id": "BlHQTB6jtnAX"
      },
      "source": [
        "model = tf.saved_model.load('/content/a_11')"
      ],
      "execution_count": null,
      "outputs": []
    },
    {
      "cell_type": "code",
      "metadata": {
        "id": "g5NoekDoKRBo"
      },
      "source": [
        "def center_crop(img, dim):\n",
        "  img =cv2.resize(img,(0,0) ,fx =0.9,fy =0.9)\n",
        "  width, height = img.shape[1], img.shape[0]\n",
        "  crop_width = dim[0] if dim[0]<img.shape[1] else img.shape[1]\n",
        "  crop_height = dim[1] if dim[1]<img.shape[0] else img.shape[0]\n",
        "  mid_x, mid_y = int(width/2), int(height/2)\n",
        "  cw2, ch2 = int(crop_width/2), int(crop_height/2)\n",
        "  crop_img = img[mid_y-ch2:mid_y+ch2, mid_x-cw2:mid_x+cw2]\n",
        "  return crop_img"
      ],
      "execution_count": null,
      "outputs": []
    },
    {
      "cell_type": "code",
      "metadata": {
        "id": "209R01P5KUPi"
      },
      "source": [
        "import cv2\n",
        "image = cv2.imread('/content/difference-between-cerebral-palsy-and-autism.jpeg')\n",
        "im = center_crop(image,(224,224))"
      ],
      "execution_count": null,
      "outputs": []
    },
    {
      "cell_type": "code",
      "metadata": {
        "id": "SHerzutdvtOc"
      },
      "source": [
        "image = np.reshape(im,(1,224,224,3))"
      ],
      "execution_count": null,
      "outputs": []
    },
    {
      "cell_type": "code",
      "metadata": {
        "id": "1jj64BTNi_2e"
      },
      "source": [
        "new_model = tf.keras.models.load_model('/content/a_11')"
      ],
      "execution_count": null,
      "outputs": []
    },
    {
      "cell_type": "code",
      "metadata": {
        "colab": {
          "base_uri": "https://localhost:8080/"
        },
        "id": "tm4VmF4jtlVd",
        "outputId": "562d1a99-284a-40c6-fc4a-ad955d317c37"
      },
      "source": [
        "new_model.summary()"
      ],
      "execution_count": null,
      "outputs": [
        {
          "output_type": "stream",
          "text": [
            "Model: \"model\"\n",
            "_________________________________________________________________\n",
            "Layer (type)                 Output Shape              Param #   \n",
            "=================================================================\n",
            "input_1 (InputLayer)         [(None, 224, 224, 3)]     0         \n",
            "_________________________________________________________________\n",
            "conv1 (Conv2D)               (None, 112, 112, 32)      864       \n",
            "_________________________________________________________________\n",
            "conv1_bn (BatchNormalization (None, 112, 112, 32)      128       \n",
            "_________________________________________________________________\n",
            "conv1_relu (ReLU)            (None, 112, 112, 32)      0         \n",
            "_________________________________________________________________\n",
            "conv_dw_1 (DepthwiseConv2D)  (None, 112, 112, 32)      288       \n",
            "_________________________________________________________________\n",
            "conv_dw_1_bn (BatchNormaliza (None, 112, 112, 32)      128       \n",
            "_________________________________________________________________\n",
            "conv_dw_1_relu (ReLU)        (None, 112, 112, 32)      0         \n",
            "_________________________________________________________________\n",
            "conv_pw_1 (Conv2D)           (None, 112, 112, 64)      2048      \n",
            "_________________________________________________________________\n",
            "conv_pw_1_bn (BatchNormaliza (None, 112, 112, 64)      256       \n",
            "_________________________________________________________________\n",
            "conv_pw_1_relu (ReLU)        (None, 112, 112, 64)      0         \n",
            "_________________________________________________________________\n",
            "conv_pad_2 (ZeroPadding2D)   (None, 113, 113, 64)      0         \n",
            "_________________________________________________________________\n",
            "conv_dw_2 (DepthwiseConv2D)  (None, 56, 56, 64)        576       \n",
            "_________________________________________________________________\n",
            "conv_dw_2_bn (BatchNormaliza (None, 56, 56, 64)        256       \n",
            "_________________________________________________________________\n",
            "conv_dw_2_relu (ReLU)        (None, 56, 56, 64)        0         \n",
            "_________________________________________________________________\n",
            "conv_pw_2 (Conv2D)           (None, 56, 56, 128)       8192      \n",
            "_________________________________________________________________\n",
            "conv_pw_2_bn (BatchNormaliza (None, 56, 56, 128)       512       \n",
            "_________________________________________________________________\n",
            "conv_pw_2_relu (ReLU)        (None, 56, 56, 128)       0         \n",
            "_________________________________________________________________\n",
            "conv_dw_3 (DepthwiseConv2D)  (None, 56, 56, 128)       1152      \n",
            "_________________________________________________________________\n",
            "conv_dw_3_bn (BatchNormaliza (None, 56, 56, 128)       512       \n",
            "_________________________________________________________________\n",
            "conv_dw_3_relu (ReLU)        (None, 56, 56, 128)       0         \n",
            "_________________________________________________________________\n",
            "conv_pw_3 (Conv2D)           (None, 56, 56, 128)       16384     \n",
            "_________________________________________________________________\n",
            "conv_pw_3_bn (BatchNormaliza (None, 56, 56, 128)       512       \n",
            "_________________________________________________________________\n",
            "conv_pw_3_relu (ReLU)        (None, 56, 56, 128)       0         \n",
            "_________________________________________________________________\n",
            "conv_pad_4 (ZeroPadding2D)   (None, 57, 57, 128)       0         \n",
            "_________________________________________________________________\n",
            "conv_dw_4 (DepthwiseConv2D)  (None, 28, 28, 128)       1152      \n",
            "_________________________________________________________________\n",
            "conv_dw_4_bn (BatchNormaliza (None, 28, 28, 128)       512       \n",
            "_________________________________________________________________\n",
            "conv_dw_4_relu (ReLU)        (None, 28, 28, 128)       0         \n",
            "_________________________________________________________________\n",
            "conv_pw_4 (Conv2D)           (None, 28, 28, 256)       32768     \n",
            "_________________________________________________________________\n",
            "conv_pw_4_bn (BatchNormaliza (None, 28, 28, 256)       1024      \n",
            "_________________________________________________________________\n",
            "conv_pw_4_relu (ReLU)        (None, 28, 28, 256)       0         \n",
            "_________________________________________________________________\n",
            "conv_dw_5 (DepthwiseConv2D)  (None, 28, 28, 256)       2304      \n",
            "_________________________________________________________________\n",
            "conv_dw_5_bn (BatchNormaliza (None, 28, 28, 256)       1024      \n",
            "_________________________________________________________________\n",
            "conv_dw_5_relu (ReLU)        (None, 28, 28, 256)       0         \n",
            "_________________________________________________________________\n",
            "conv_pw_5 (Conv2D)           (None, 28, 28, 256)       65536     \n",
            "_________________________________________________________________\n",
            "conv_pw_5_bn (BatchNormaliza (None, 28, 28, 256)       1024      \n",
            "_________________________________________________________________\n",
            "conv_pw_5_relu (ReLU)        (None, 28, 28, 256)       0         \n",
            "_________________________________________________________________\n",
            "conv_pad_6 (ZeroPadding2D)   (None, 29, 29, 256)       0         \n",
            "_________________________________________________________________\n",
            "conv_dw_6 (DepthwiseConv2D)  (None, 14, 14, 256)       2304      \n",
            "_________________________________________________________________\n",
            "conv_dw_6_bn (BatchNormaliza (None, 14, 14, 256)       1024      \n",
            "_________________________________________________________________\n",
            "conv_dw_6_relu (ReLU)        (None, 14, 14, 256)       0         \n",
            "_________________________________________________________________\n",
            "conv_pw_6 (Conv2D)           (None, 14, 14, 512)       131072    \n",
            "_________________________________________________________________\n",
            "conv_pw_6_bn (BatchNormaliza (None, 14, 14, 512)       2048      \n",
            "_________________________________________________________________\n",
            "conv_pw_6_relu (ReLU)        (None, 14, 14, 512)       0         \n",
            "_________________________________________________________________\n",
            "conv_dw_7 (DepthwiseConv2D)  (None, 14, 14, 512)       4608      \n",
            "_________________________________________________________________\n",
            "conv_dw_7_bn (BatchNormaliza (None, 14, 14, 512)       2048      \n",
            "_________________________________________________________________\n",
            "conv_dw_7_relu (ReLU)        (None, 14, 14, 512)       0         \n",
            "_________________________________________________________________\n",
            "conv_pw_7 (Conv2D)           (None, 14, 14, 512)       262144    \n",
            "_________________________________________________________________\n",
            "conv_pw_7_bn (BatchNormaliza (None, 14, 14, 512)       2048      \n",
            "_________________________________________________________________\n",
            "conv_pw_7_relu (ReLU)        (None, 14, 14, 512)       0         \n",
            "_________________________________________________________________\n",
            "conv_dw_8 (DepthwiseConv2D)  (None, 14, 14, 512)       4608      \n",
            "_________________________________________________________________\n",
            "conv_dw_8_bn (BatchNormaliza (None, 14, 14, 512)       2048      \n",
            "_________________________________________________________________\n",
            "conv_dw_8_relu (ReLU)        (None, 14, 14, 512)       0         \n",
            "_________________________________________________________________\n",
            "conv_pw_8 (Conv2D)           (None, 14, 14, 512)       262144    \n",
            "_________________________________________________________________\n",
            "conv_pw_8_bn (BatchNormaliza (None, 14, 14, 512)       2048      \n",
            "_________________________________________________________________\n",
            "conv_pw_8_relu (ReLU)        (None, 14, 14, 512)       0         \n",
            "_________________________________________________________________\n",
            "conv_dw_9 (DepthwiseConv2D)  (None, 14, 14, 512)       4608      \n",
            "_________________________________________________________________\n",
            "conv_dw_9_bn (BatchNormaliza (None, 14, 14, 512)       2048      \n",
            "_________________________________________________________________\n",
            "conv_dw_9_relu (ReLU)        (None, 14, 14, 512)       0         \n",
            "_________________________________________________________________\n",
            "conv_pw_9 (Conv2D)           (None, 14, 14, 512)       262144    \n",
            "_________________________________________________________________\n",
            "conv_pw_9_bn (BatchNormaliza (None, 14, 14, 512)       2048      \n",
            "_________________________________________________________________\n",
            "conv_pw_9_relu (ReLU)        (None, 14, 14, 512)       0         \n",
            "_________________________________________________________________\n",
            "conv_dw_10 (DepthwiseConv2D) (None, 14, 14, 512)       4608      \n",
            "_________________________________________________________________\n",
            "conv_dw_10_bn (BatchNormaliz (None, 14, 14, 512)       2048      \n",
            "_________________________________________________________________\n",
            "conv_dw_10_relu (ReLU)       (None, 14, 14, 512)       0         \n",
            "_________________________________________________________________\n",
            "conv_pw_10 (Conv2D)          (None, 14, 14, 512)       262144    \n",
            "_________________________________________________________________\n",
            "conv_pw_10_bn (BatchNormaliz (None, 14, 14, 512)       2048      \n",
            "_________________________________________________________________\n",
            "conv_pw_10_relu (ReLU)       (None, 14, 14, 512)       0         \n",
            "_________________________________________________________________\n",
            "conv_dw_11 (DepthwiseConv2D) (None, 14, 14, 512)       4608      \n",
            "_________________________________________________________________\n",
            "conv_dw_11_bn (BatchNormaliz (None, 14, 14, 512)       2048      \n",
            "_________________________________________________________________\n",
            "conv_dw_11_relu (ReLU)       (None, 14, 14, 512)       0         \n",
            "_________________________________________________________________\n",
            "conv_pw_11 (Conv2D)          (None, 14, 14, 512)       262144    \n",
            "_________________________________________________________________\n",
            "conv_pw_11_bn (BatchNormaliz (None, 14, 14, 512)       2048      \n",
            "_________________________________________________________________\n",
            "conv_pw_11_relu (ReLU)       (None, 14, 14, 512)       0         \n",
            "_________________________________________________________________\n",
            "conv_pad_12 (ZeroPadding2D)  (None, 15, 15, 512)       0         \n",
            "_________________________________________________________________\n",
            "conv_dw_12 (DepthwiseConv2D) (None, 7, 7, 512)         4608      \n",
            "_________________________________________________________________\n",
            "conv_dw_12_bn (BatchNormaliz (None, 7, 7, 512)         2048      \n",
            "_________________________________________________________________\n",
            "conv_dw_12_relu (ReLU)       (None, 7, 7, 512)         0         \n",
            "_________________________________________________________________\n",
            "conv_pw_12 (Conv2D)          (None, 7, 7, 1024)        524288    \n",
            "_________________________________________________________________\n",
            "conv_pw_12_bn (BatchNormaliz (None, 7, 7, 1024)        4096      \n",
            "_________________________________________________________________\n",
            "conv_pw_12_relu (ReLU)       (None, 7, 7, 1024)        0         \n",
            "_________________________________________________________________\n",
            "conv_dw_13 (DepthwiseConv2D) (None, 7, 7, 1024)        9216      \n",
            "_________________________________________________________________\n",
            "conv_dw_13_bn (BatchNormaliz (None, 7, 7, 1024)        4096      \n",
            "_________________________________________________________________\n",
            "conv_dw_13_relu (ReLU)       (None, 7, 7, 1024)        0         \n",
            "_________________________________________________________________\n",
            "conv_pw_13 (Conv2D)          (None, 7, 7, 1024)        1048576   \n",
            "_________________________________________________________________\n",
            "conv_pw_13_bn (BatchNormaliz (None, 7, 7, 1024)        4096      \n",
            "_________________________________________________________________\n",
            "conv_pw_13_relu (ReLU)       (None, 7, 7, 1024)        0         \n",
            "_________________________________________________________________\n",
            "global_average_pooling2d (Gl (None, 1024)              0         \n",
            "_________________________________________________________________\n",
            "dropout (Dropout)            (None, 1024)              0         \n",
            "_________________________________________________________________\n",
            "batch_normalization (BatchNo (None, 1024)              4096      \n",
            "_________________________________________________________________\n",
            "dense (Dense)                (None, 128)               131200    \n",
            "_________________________________________________________________\n",
            "batch_normalization_1 (Batch (None, 128)               512       \n",
            "_________________________________________________________________\n",
            "dense_1 (Dense)              (None, 16)                2064      \n",
            "_________________________________________________________________\n",
            "batch_normalization_2 (Batch (None, 16)                64        \n",
            "_________________________________________________________________\n",
            "dense_2 (Dense)              (None, 2)                 34        \n",
            "=================================================================\n",
            "Total params: 3,366,834\n",
            "Trainable params: 3,342,610\n",
            "Non-trainable params: 24,224\n",
            "_________________________________________________________________\n"
          ],
          "name": "stdout"
        }
      ]
    },
    {
      "cell_type": "code",
      "metadata": {
        "colab": {
          "base_uri": "https://localhost:8080/"
        },
        "id": "-0h7fDlwvk8u",
        "outputId": "e7a9a542-7f80-4c8a-f142-2e773912e097"
      },
      "source": [
        "new_model.predict(image)"
      ],
      "execution_count": null,
      "outputs": [
        {
          "output_type": "execute_result",
          "data": {
            "text/plain": [
              "array([[0.99347323, 0.00652676]], dtype=float32)"
            ]
          },
          "metadata": {
            "tags": []
          },
          "execution_count": 51
        }
      ]
    },
    {
      "cell_type": "code",
      "metadata": {
        "colab": {
          "base_uri": "https://localhost:8080/"
        },
        "id": "2DUmOcJ2xYf0",
        "outputId": "93c720a5-a214-4fe2-9428-d9a88f723c82"
      },
      "source": [
        "new_model.evaluate(test_gen2)"
      ],
      "execution_count": null,
      "outputs": [
        {
          "output_type": "stream",
          "text": [
            "1/1 [==============================] - 8s 8s/step - loss: 0.6074 - accuracy: 0.7600 - auc_2: 0.8717\n"
          ],
          "name": "stdout"
        },
        {
          "output_type": "execute_result",
          "data": {
            "text/plain": [
              "[0.607361912727356, 0.7599999904632568, 0.8717250227928162]"
            ]
          },
          "metadata": {
            "tags": []
          },
          "execution_count": 52
        }
      ]
    },
    {
      "cell_type": "code",
      "metadata": {
        "id": "3_I8YjsZIZA_"
      },
      "source": [
        "new_model = tf.keras.models.load_model('/content/autism_1.h5')"
      ],
      "execution_count": null,
      "outputs": []
    }
  ]
}